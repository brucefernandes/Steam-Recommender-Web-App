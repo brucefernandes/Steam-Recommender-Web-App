{
 "cells": [
  {
   "cell_type": "code",
   "execution_count": 1,
   "id": "226ba3c0",
   "metadata": {},
   "outputs": [],
   "source": [
    "import json\n",
    "import pandas as pd"
   ]
  },
  {
   "cell_type": "code",
   "execution_count": 2,
   "id": "6493039a",
   "metadata": {},
   "outputs": [],
   "source": [
    "i = open(\"../clean_data/indices.json\")"
   ]
  },
  {
   "cell_type": "code",
   "execution_count": 3,
   "id": "26bbb0a4",
   "metadata": {},
   "outputs": [],
   "source": [
    "c = open(\"../clean_data/cosine_sim.json\")"
   ]
  },
  {
   "cell_type": "code",
   "execution_count": 4,
   "id": "470cfb26",
   "metadata": {},
   "outputs": [],
   "source": [
    "indices = json.load(i)"
   ]
  },
  {
   "cell_type": "code",
   "execution_count": 5,
   "id": "193c3169",
   "metadata": {
    "scrolled": false
   },
   "outputs": [],
   "source": [
    "indices_series = pd.Series(indices['indices'])"
   ]
  },
  {
   "cell_type": "code",
   "execution_count": 6,
   "id": "bfe2ebc7",
   "metadata": {},
   "outputs": [],
   "source": [
    "cosine_similarity = json.load(c)"
   ]
  },
  {
   "cell_type": "code",
   "execution_count": 7,
   "id": "42590650",
   "metadata": {},
   "outputs": [
    {
     "data": {
      "text/plain": [
       "float"
      ]
     },
     "execution_count": 7,
     "metadata": {},
     "output_type": "execute_result"
    }
   ],
   "source": [
    "type(cosine_similarity['cosine_sim'][45][0])"
   ]
  },
  {
   "cell_type": "code",
   "execution_count": 8,
   "id": "6fecb911",
   "metadata": {},
   "outputs": [],
   "source": [
    "cosine_series = pd.Series(cosine_similarity[\"cosine_sim\"])\n"
   ]
  },
  {
   "cell_type": "code",
   "execution_count": 9,
   "id": "c4450a89",
   "metadata": {},
   "outputs": [
    {
     "data": {
      "text/plain": [
       "0       [0.9999999999999997, 0.4276686017238498, 0.298...\n",
       "1       [0.4276686017238498, 0.9999999999999999, 0.330...\n",
       "2       [0.2988071523335984, 0.33028912953790823, 1.00...\n",
       "3       [0.4008918628686365, 0.5539117094069973, 0.251...\n",
       "4       [0.27961639470054, 0.3720364745708926, 0.41590...\n",
       "                              ...                        \n",
       "9994    [0.0, 0.1160517706371319, 0.21081851067789195,...\n",
       "9995    [0.0, 0.0, 0.0, 0.10206207261596575, 0.0, 0.0,...\n",
       "9996    [0.2519763153394848, 0.2321035412742638, 0.210...\n",
       "9997    [0.0, 0.09656090991705353, 0.17541160386140586...\n",
       "9998    [0.1951800145897066, 0.2696799449852968, 0.326...\n",
       "Length: 9999, dtype: object"
      ]
     },
     "execution_count": 9,
     "metadata": {},
     "output_type": "execute_result"
    }
   ],
   "source": [
    "cosine_series"
   ]
  },
  {
   "cell_type": "code",
   "execution_count": 28,
   "id": "565a3457",
   "metadata": {},
   "outputs": [],
   "source": [
    "def recommendations(title, cosine_sim=cosine_series):\n",
    "\n",
    "    # initializing the empty list of recommended movies\n",
    "    recommended_games = []\n",
    "\n",
    "    # gettin the index of the movie that matches the title\n",
    "    idx = indices_series[indices_series == title].index[0]\n",
    "\n",
    "    # creating a Series with the similarity scores in descending order\n",
    "    score_series = pd.Series(cosine_sim[idx]).sort_values(ascending=False)\n",
    "    print(score_series)\n",
    "    # getting the indexes of the 10 most similar movies\n",
    "    top_10_indexes = list(score_series.iloc[1:15].index)\n",
    "    print(top_10_indexes)\n",
    "    # populating the list with the titles of the best 10 matching movies\n",
    "    for i in top_10_indexes:\n",
    "        recommended_games.append(indices['indices'][i])\n",
    "\n",
    "    return recommended_games"
   ]
  },
  {
   "cell_type": "code",
   "execution_count": 29,
   "id": "e7e922b1",
   "metadata": {
    "scrolled": true
   },
   "outputs": [
    {
     "name": "stdout",
     "output_type": "stream",
     "text": [
      "419     1.000000\n",
      "370     0.659153\n",
      "422     0.647339\n",
      "320     0.647339\n",
      "846     0.641427\n",
      "          ...   \n",
      "8386    0.000000\n",
      "1931    0.000000\n",
      "9207    0.000000\n",
      "5399    0.000000\n",
      "7936    0.000000\n",
      "Length: 9999, dtype: float64\n",
      "[370, 422, 320, 846, 708, 4118, 8596, 2364, 990, 339, 2172, 4889, 5931, 2889]\n"
     ]
    },
    {
     "data": {
      "text/plain": [
       "['SMITE',\n",
       " 'Counter-Strike: Global Offensive',\n",
       " 'Paladins',\n",
       " 'Dungeon Defenders II',\n",
       " 'Splitgate: Arena Warfare',\n",
       " 'AirMech Strike',\n",
       " 'The International 2019 Battle Pass',\n",
       " 'Battle Islands',\n",
       " 'Bloons TD Battles',\n",
       " 'World of Warships',\n",
       " 'Awesomenauts - the 2D moba',\n",
       " 'Kingdom Wars',\n",
       " 'Tower Wars',\n",
       " 'Spacelords']"
      ]
     },
     "execution_count": 29,
     "metadata": {},
     "output_type": "execute_result"
    }
   ],
   "source": [
    "recommendations(\"Dota 2\")"
   ]
  },
  {
   "cell_type": "code",
   "execution_count": null,
   "id": "4644bb9f",
   "metadata": {},
   "outputs": [],
   "source": []
  }
 ],
 "metadata": {
  "kernelspec": {
   "display_name": "Python 3",
   "language": "python",
   "name": "python3"
  },
  "language_info": {
   "codemirror_mode": {
    "name": "ipython",
    "version": 3
   },
   "file_extension": ".py",
   "mimetype": "text/x-python",
   "name": "python",
   "nbconvert_exporter": "python",
   "pygments_lexer": "ipython3",
   "version": "3.6.6rc1"
  }
 },
 "nbformat": 4,
 "nbformat_minor": 5
}
